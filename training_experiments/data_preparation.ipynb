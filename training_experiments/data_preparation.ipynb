{
 "cells": [
  {
   "cell_type": "code",
   "execution_count": 1,
   "id": "5e1dfd74-f802-4749-b52b-a571da2d63d8",
   "metadata": {
    "tags": []
   },
   "outputs": [],
   "source": [
    "import os\n",
    "import regex as re\n",
    "import sqlite3\n",
    "from collections import defaultdict\n",
    "from pathlib import Path\n",
    "\n",
    "from transformers import PreTrainedTokenizerFast\n",
    "\n",
    "import plotly.graph_objects as go\n",
    "\n",
    "from typing import (\n",
    "    Union,\n",
    "    Optional,\n",
    "    Sequence,\n",
    ")"
   ]
  },
  {
   "cell_type": "markdown",
   "id": "11180eca-40e0-41c8-bfd4-6990052c7f7d",
   "metadata": {},
   "source": [
    "## Constants"
   ]
  },
  {
   "cell_type": "code",
   "execution_count": 2,
   "id": "fd6cf597-7360-43af-b2ce-70d2f3b19858",
   "metadata": {
    "tags": []
   },
   "outputs": [],
   "source": [
    "# Crawled database\n",
    "\n",
    "DB = Path(\"..\")/\"thegirl_crawler\"/\"thegirl_tests.db\"\n",
    "TABLE = \"titles\"\n",
    "TITLE_COLUMN = \"title\"\n",
    "\n",
    "# Clean dataset\n",
    "\n",
    "TITLE_DUMP = Path(\".\")/\"input\"/\"all_titles.txt\"\n",
    "\n",
    "# Tokenizer\n",
    "\n",
    "TOKENIZER = Path(\".\")/\"model\"/\"tokenizer\"/\"pretrained_tokenizer\"\n",
    "\n",
    "# Plots\n",
    "\n",
    "IMG_DUMP = Path(\".\")/\"img\"/\"title_length_distribution.png\"\n",
    "HEIGHT = 1080\n",
    "WIDTH = 1920\n",
    "COLOR = \"#EC1268\""
   ]
  },
  {
   "cell_type": "markdown",
   "id": "fa02e8b4-9826-4bff-abe5-d987a6de062e",
   "metadata": {},
   "source": [
    "## Data Preparation"
   ]
  },
  {
   "cell_type": "markdown",
   "id": "2cc8be02-16ad-477b-b8f1-48e2c6941d24",
   "metadata": {},
   "source": [
    "### Fetching test titles from the database"
   ]
  },
  {
   "cell_type": "code",
   "execution_count": 3,
   "id": "58bd8af0-4006-4230-8dae-6903292e8316",
   "metadata": {
    "tags": []
   },
   "outputs": [],
   "source": [
    "def create_db_connection(db_file: Union[str, os.PathLike]) -> sqlite3.Connection:\n",
    "    connection = None\n",
    "    try:\n",
    "        connection = sqlite3.connect(db_file)\n",
    "    except Error as error:\n",
    "        print(error)\n",
    "\n",
    "    return connection"
   ]
  },
  {
   "cell_type": "code",
   "execution_count": 4,
   "id": "3d627f4a-fdde-495d-bfdf-1ee69cc79e6c",
   "metadata": {
    "tags": []
   },
   "outputs": [],
   "source": [
    "def fetch_entities(connection: sqlite3.Connection,\n",
    "                   db_table: Optional[str] = TABLE,\n",
    "                   entity_column: Optional[str] = TITLE_COLUMN) -> Sequence[str]:\n",
    "    cursor = connection.cursor()\n",
    "    cursor.execute(f\"SELECT {entity_column} FROM {db_table}\")\n",
    "\n",
    "    entities = [\n",
    "        row[0].strip()\n",
    "        for row\n",
    "        in cursor.fetchall()\n",
    "    ]\n",
    "\n",
    "    return entities"
   ]
  },
  {
   "cell_type": "code",
   "execution_count": 5,
   "id": "297266d6-0d23-4e6b-967e-9d32cfcb0b92",
   "metadata": {
    "tags": []
   },
   "outputs": [],
   "source": [
    "db_connection = create_db_connection(db_file=DB)\n",
    "\n",
    "with db_connection:\n",
    "    raw_titles = fetch_entities(connection=db_connection)"
   ]
  },
  {
   "cell_type": "markdown",
   "id": "7627b5e8-83f5-447a-927c-b8a67af7aa0a",
   "metadata": {},
   "source": [
    "### Cleaning out repetitive test intros"
   ]
  },
  {
   "cell_type": "code",
   "execution_count": 6,
   "id": "0c533330-2a50-4074-83b3-0bf698b79fc0",
   "metadata": {
    "tags": []
   },
   "outputs": [],
   "source": [
    "intro_pattern = re.compile(r\"\\[.+\\]\")\n",
    "\n",
    "intro2cnt = defaultdict(int)\n",
    "\n",
    "for title in raw_titles:\n",
    "    formulaic_intro = intro_pattern.search(title)\n",
    "    if formulaic_intro:\n",
    "        intro2cnt[formulaic_intro.group(0)] += 1\n",
    "    elif \": \" in title:\n",
    "        formulaic_intro = title.split(\": \")[0]\n",
    "        intro2cnt[formulaic_intro] += 1\n",
    "        \n",
    "intro2cnt = {\n",
    "    intro: count\n",
    "    for intro, count\n",
    "    in sorted(intro2cnt.items(), key=lambda _: _[1], reverse=True)\n",
    "    if count >= 50\n",
    "}"
   ]
  },
  {
   "cell_type": "code",
   "execution_count": 7,
   "id": "00253074-1598-4172-ad3a-74d4017454dd",
   "metadata": {
    "tags": []
   },
   "outputs": [
    {
     "name": "stdout",
     "output_type": "stream",
     "text": [
      "Тест:\t4494\n",
      "Quiz:\t1059\n",
      "[тест]:\t818\n",
      "ТЕСТ:\t784\n",
      "Тест-рулетка:\t192\n",
      "[quiz]:\t127\n",
      "Гадание онлайн:\t107\n",
      "Тест на глазастость:\t99\n",
      "Гадание:\t84\n"
     ]
    }
   ],
   "source": [
    "garbage_intros = set(intro2cnt.keys())\n",
    "\n",
    "for intro, count in intro2cnt.items():\n",
    "    print(f\"{intro}:\\t{count}\")"
   ]
  },
  {
   "cell_type": "code",
   "execution_count": 8,
   "id": "4c3a57fc-b8f3-4cfa-a0b2-3d9784edc0bf",
   "metadata": {
    "tags": []
   },
   "outputs": [],
   "source": [
    "with open(TITLE_DUMP, \"w\", encoding=\"utf-8\") as outfile:\n",
    "    for title in raw_titles:\n",
    "        intro_text = None\n",
    "        formulaic_intro = intro_pattern.search(title)\n",
    "        if formulaic_intro:\n",
    "            intro_text = formulaic_intro.group(0)\n",
    "        elif \": \" in title:\n",
    "            intro_text = title.split(\": \")[0]\n",
    "        if intro_text is not None and intro_text in garbage_intros:\n",
    "                title = title[len(intro_text) + 1:].strip()\n",
    "        outfile.write(f\"{title}\\n\")  "
   ]
  },
  {
   "cell_type": "markdown",
   "id": "6f2c2e75-5c3a-405c-9fff-8e8c35bdb700",
   "metadata": {},
   "source": [
    "### Count unique symbols"
   ]
  },
  {
   "cell_type": "code",
   "execution_count": 9,
   "id": "679179bb-2573-483a-957b-5ecd6d7d204e",
   "metadata": {
    "tags": []
   },
   "outputs": [
    {
     "name": "stdout",
     "output_type": "stream",
     "text": [
      "524 unique symbols\n"
     ]
    }
   ],
   "source": [
    "symbol_set = set()\n",
    "\n",
    "with open(TITLE_DUMP, \"r\", encoding=\"utf-8\") as infile:\n",
    "    for title in infile:\n",
    "        symbols = set(title.strip())\n",
    "        symbol_set.update(symbols)\n",
    "\n",
    "print(f\"{len(symbol_set)} unique symbols\")"
   ]
  },
  {
   "cell_type": "code",
   "execution_count": null,
   "id": "7dd3ceda-941e-4a72-be4e-b6e2f6d15d26",
   "metadata": {},
   "outputs": [],
   "source": []
  }
 ],
 "metadata": {
  "kernelspec": {
   "display_name": "search-suggestions",
   "language": "python",
   "name": "search-suggestions"
  },
  "language_info": {
   "codemirror_mode": {
    "name": "ipython",
    "version": 3
   },
   "file_extension": ".py",
   "mimetype": "text/x-python",
   "name": "python",
   "nbconvert_exporter": "python",
   "pygments_lexer": "ipython3",
   "version": "3.11.4"
  }
 },
 "nbformat": 4,
 "nbformat_minor": 5
}
